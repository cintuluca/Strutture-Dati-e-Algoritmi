{
 "cells": [
  {
   "cell_type": "code",
   "execution_count": 1,
   "id": "594ba92e-adf0-4835-bed6-8a30a0460b3c",
   "metadata": {},
   "outputs": [],
   "source": [
    "import numpy as np"
   ]
  },
  {
   "cell_type": "code",
   "execution_count": 2,
   "id": "fe604bbb-430c-4930-a434-54c88adda15d",
   "metadata": {},
   "outputs": [],
   "source": [
    "def Max(a,b):\n",
    "    if a>b:\n",
    "        print('Routine di combinazione:\\n\\t', a)\n",
    "        return a\n",
    "    else:\n",
    "        print('Routine di combinazione:\\n\\t', b)\n",
    "        return b\n",
    "    \n",
    "def DEI_Max(A,p,q,n):\n",
    "    if p==q:\n",
    "        return A[p]\n",
    "    else:\n",
    "        r=int((p+q)/2)\n",
    "        print('Passo', n, '\\t-->\\tA=', A[np.arange(p,q+1,1)])\n",
    "        a=DEI_Max(A,p,r,n+1)\n",
    "        b=DEI_Max(A,r+1,q,n+1)\n",
    "        m=Max(a,b)\n",
    "        return m"
   ]
  },
  {
   "cell_type": "code",
   "execution_count": 3,
   "id": "99bf8cd7-e7b5-4b13-9745-9efb20554150",
   "metadata": {},
   "outputs": [
    {
     "name": "stdout",
     "output_type": "stream",
     "text": [
      "Passo 1 \t-->\tA= [ 4  6  1  3  9  7 10  8]\n",
      "Passo 2 \t-->\tA= [4 6 1 3]\n",
      "Passo 3 \t-->\tA= [4 6]\n",
      "Routine di combinazione:\n",
      "\t 6\n",
      "Passo 3 \t-->\tA= [1 3]\n",
      "Routine di combinazione:\n",
      "\t 3\n",
      "Routine di combinazione:\n",
      "\t 6\n",
      "Passo 2 \t-->\tA= [ 9  7 10  8]\n",
      "Passo 3 \t-->\tA= [9 7]\n",
      "Routine di combinazione:\n",
      "\t 9\n",
      "Passo 3 \t-->\tA= [10  8]\n",
      "Routine di combinazione:\n",
      "\t 10\n",
      "Routine di combinazione:\n",
      "\t 10\n",
      "Routine di combinazione:\n",
      "\t 10\n",
      "\n",
      "Elemento massimo dell'array:\t 10\n"
     ]
    }
   ],
   "source": [
    "A = np.array([4, 6, 1, 3, 9, 7, 10, 8])\n",
    "print('\\nElemento massimo dell\\'array:\\t', DEI_Max(A,0,len(A)-1,1))"
   ]
  }
 ],
 "metadata": {
  "kernelspec": {
   "display_name": "Python 3 (ipykernel)",
   "language": "python",
   "name": "python3"
  },
  "language_info": {
   "codemirror_mode": {
    "name": "ipython",
    "version": 3
   },
   "file_extension": ".py",
   "mimetype": "text/x-python",
   "name": "python",
   "nbconvert_exporter": "python",
   "pygments_lexer": "ipython3",
   "version": "3.9.7"
  }
 },
 "nbformat": 4,
 "nbformat_minor": 5
}
