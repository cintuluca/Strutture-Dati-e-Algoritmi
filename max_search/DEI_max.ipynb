{
 "cells": [
  {
   "cell_type": "code",
   "execution_count": 1,
   "id": "594ba92e-adf0-4835-bed6-8a30a0460b3c",
   "metadata": {},
   "outputs": [],
   "source": [
    "import numpy as np"
   ]
  },
  {
   "cell_type": "code",
   "execution_count": 2,
   "id": "fe604bbb-430c-4930-a434-54c88adda15d",
   "metadata": {},
   "outputs": [],
   "source": [
    "def Max(a,b):\n",
    "    if a>b:\n",
    "        return a\n",
    "    else:\n",
    "        return b\n",
    "    \n",
    "def DEI_Max(A,p,q):\n",
    "    if p==q:\n",
    "        return A[p]\n",
    "    else:\n",
    "        r=int((p+q)/2)\n",
    "        a=DEI_Max(A,p,r)\n",
    "        b=DEI_Max(A,r+1,q)\n",
    "        m=Max(a,b)\n",
    "        return m"
   ]
  },
  {
   "cell_type": "code",
   "execution_count": 3,
   "id": "99bf8cd7-e7b5-4b13-9745-9efb20554150",
   "metadata": {},
   "outputs": [
    {
     "name": "stdout",
     "output_type": "stream",
     "text": [
      "Elemento massimo dell'array:\t 10\n"
     ]
    }
   ],
   "source": [
    "A = np.array([4, 6, 1, 3, 9, 7, 10, 8])\n",
    "print('Elemento massimo dell\\'array:\\t', DEI_Max(A,0,len(A)-1))"
   ]
  }
 ],
 "metadata": {
  "kernelspec": {
   "display_name": "Python 3 (ipykernel)",
   "language": "python",
   "name": "python3"
  },
  "language_info": {
   "codemirror_mode": {
    "name": "ipython",
    "version": 3
   },
   "file_extension": ".py",
   "mimetype": "text/x-python",
   "name": "python",
   "nbconvert_exporter": "python",
   "pygments_lexer": "ipython3",
   "version": "3.9.7"
  }
 },
 "nbformat": 4,
 "nbformat_minor": 5
}
