{
 "cells": [
  {
   "cell_type": "code",
   "execution_count": 1,
   "id": "85cf0777-6757-4ab4-b6c2-c72839481ab6",
   "metadata": {},
   "outputs": [],
   "source": [
    "import numpy as np"
   ]
  },
  {
   "cell_type": "code",
   "execution_count": 2,
   "id": "535398e3-e3ad-4cb2-9fa8-1e492b59f432",
   "metadata": {},
   "outputs": [],
   "source": [
    "def IncrMax(A):\n",
    "    k=A[0]\n",
    "    for j in np.arange(1, len(A)):\n",
    "        print('Passo ', j, '\\t-->\\t', k, end='')\n",
    "        if A[j]>k:\n",
    "            k=A[j]\n",
    "        print(' ->', k)\n",
    "    return k"
   ]
  },
  {
   "cell_type": "code",
   "execution_count": 3,
   "id": "6070fd34-884a-4527-878a-f9c97f1e13ce",
   "metadata": {},
   "outputs": [
    {
     "name": "stdout",
     "output_type": "stream",
     "text": [
      "Passo  1 \t-->\t 4 -> 6\n",
      "Passo  2 \t-->\t 6 -> 6\n",
      "Passo  3 \t-->\t 6 -> 6\n",
      "Passo  4 \t-->\t 6 -> 9\n",
      "Passo  5 \t-->\t 9 -> 9\n",
      "Passo  6 \t-->\t 9 -> 10\n",
      "Passo  7 \t-->\t 10 -> 10\n",
      "\n",
      "Elemento massimo dell'array:\t 10\n"
     ]
    }
   ],
   "source": [
    "A = np.array([4, 6, 1, 3, 9, 7, 10, 8])\n",
    "print('\\nElemento massimo dell\\'array:\\t', IncrMax(A))"
   ]
  }
 ],
 "metadata": {
  "kernelspec": {
   "display_name": "Python 3 (ipykernel)",
   "language": "python",
   "name": "python3"
  },
  "language_info": {
   "codemirror_mode": {
    "name": "ipython",
    "version": 3
   },
   "file_extension": ".py",
   "mimetype": "text/x-python",
   "name": "python",
   "nbconvert_exporter": "python",
   "pygments_lexer": "ipython3",
   "version": "3.9.7"
  }
 },
 "nbformat": 4,
 "nbformat_minor": 5
}
