{
 "cells": [
  {
   "cell_type": "code",
   "execution_count": 1,
   "id": "accfc7b7-7864-4dce-b879-d8b8a1e3401a",
   "metadata": {},
   "outputs": [],
   "source": [
    "import numpy as np"
   ]
  },
  {
   "cell_type": "code",
   "execution_count": 2,
   "id": "9094415a-13e7-4e9e-b6ad-98dbbcf16481",
   "metadata": {},
   "outputs": [],
   "source": [
    "#this function prints also the result step by step\n",
    "def Merge(A,p,q,r):\n",
    "    n1=q-p+1\n",
    "    n2=r-q\n",
    "    L=np.zeros(n1+1)\n",
    "    R=np.zeros(n2+1)\n",
    "    for i in range(n1):\n",
    "        L[i]=A[p+i]\n",
    "    for j in range(n2):\n",
    "        R[j]=A[q+j+1]\n",
    "    L[n1]=float('inf')\n",
    "    R[n2]=float('inf')\n",
    "    i=0\n",
    "    j=0\n",
    "    for k in np.arange(p,r+1,1):\n",
    "        if L[i]<=R[j]:\n",
    "            A[k]=L[i]\n",
    "            i=i+1\n",
    "        else:\n",
    "            A[k]=R[j]\n",
    "            j=j+1\n",
    "    print('Merge routine:\\n\\t', A[np.arange(p,r+1,1)])\n",
    "            \n",
    "def MergeSort(A,p,r,n):\n",
    "    if p<r:\n",
    "        q=int((p+r)/2)\n",
    "        print('Step', n, '\\t-->\\tL=', A[np.arange(p,q+1,1)], '\\tR=', A[np.arange(q+1,r+1,1)])\n",
    "        MergeSort(A,p,q,n+1)\n",
    "        MergeSort(A,q+1,r,n+1)\n",
    "        Merge(A,p,q,r)"
   ]
  },
  {
   "cell_type": "code",
   "execution_count": 3,
   "id": "47bdee02-a981-41ff-9f35-d1f05921cc38",
   "metadata": {},
   "outputs": [
    {
     "name": "stdout",
     "output_type": "stream",
     "text": [
      "Input array, before sorting:\n",
      "\t [ 4  6  1  3  9  7 10  8] \n",
      "\n",
      "Step 1 \t-->\tL= [4 6 1 3] \tR= [ 9  7 10  8]\n",
      "Step 2 \t-->\tL= [4 6] \tR= [1 3]\n",
      "Step 3 \t-->\tL= [4] \tR= [6]\n",
      "Merge routine:\n",
      "\t [4 6]\n",
      "Step 3 \t-->\tL= [1] \tR= [3]\n",
      "Merge routine:\n",
      "\t [1 3]\n",
      "Merge routine:\n",
      "\t [1 3 4 6]\n",
      "Step 2 \t-->\tL= [9 7] \tR= [10  8]\n",
      "Step 3 \t-->\tL= [9] \tR= [7]\n",
      "Merge routine:\n",
      "\t [7 9]\n",
      "Step 3 \t-->\tL= [10] \tR= [8]\n",
      "Merge routine:\n",
      "\t [ 8 10]\n",
      "Merge routine:\n",
      "\t [ 7  8  9 10]\n",
      "Merge routine:\n",
      "\t [ 1  3  4  6  7  8  9 10]\n",
      "\n",
      "Output array, after sorting:\n",
      "\t [ 1  3  4  6  7  8  9 10]\n"
     ]
    }
   ],
   "source": [
    "A = np.array([4, 6, 1, 3, 9, 7, 10, 8])\n",
    "print('Input array, before sorting:\\n\\t', A, '\\n')\n",
    "MergeSort(A,0,len(A)-1,1)\n",
    "print('\\nOutput array, after sorting:\\n\\t', A)"
   ]
  }
 ],
 "metadata": {
  "kernelspec": {
   "display_name": "Python 3 (ipykernel)",
   "language": "python",
   "name": "python3"
  },
  "language_info": {
   "codemirror_mode": {
    "name": "ipython",
    "version": 3
   },
   "file_extension": ".py",
   "mimetype": "text/x-python",
   "name": "python",
   "nbconvert_exporter": "python",
   "pygments_lexer": "ipython3",
   "version": "3.9.16"
  }
 },
 "nbformat": 4,
 "nbformat_minor": 5
}
