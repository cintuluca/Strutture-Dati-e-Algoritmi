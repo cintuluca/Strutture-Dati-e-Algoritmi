{
 "cells": [
  {
   "cell_type": "code",
   "execution_count": 1,
   "id": "5ca77cbc-6713-470d-8e56-9a90cbe425de",
   "metadata": {},
   "outputs": [],
   "source": [
    "import numpy as np"
   ]
  },
  {
   "cell_type": "code",
   "execution_count": 2,
   "id": "f7c628c2-deb0-4090-b3fb-432240763173",
   "metadata": {},
   "outputs": [],
   "source": [
    "def InsertionSort(A):\n",
    "    for j in np.arange(1, len(A)):\n",
    "        key=A[j]\n",
    "        i=j-1\n",
    "        while i>=0 and A[i]>key:\n",
    "            A[i+1]=A[i]\n",
    "            i=i-1\n",
    "        A[i+1]=key"
   ]
  },
  {
   "cell_type": "code",
   "execution_count": 3,
   "id": "c9fb0d83-13f0-453a-99b7-0cda537d12b8",
   "metadata": {},
   "outputs": [
    {
     "name": "stdout",
     "output_type": "stream",
     "text": [
      "Array in input, prima dell'ordinamento:\n",
      "\t [ 4  6  1  3  9  7 10  8] \n",
      "\n",
      "Array in output, dopo averne eseguito l'ordinamento:\n",
      "\t [ 1  3  4  6  7  8  9 10]\n"
     ]
    }
   ],
   "source": [
    "A = np.array([4, 6, 1, 3, 9, 7, 10, 8])\n",
    "print('Array in input, prima dell\\'ordinamento:\\n\\t', A, '\\n')\n",
    "InsertionSort(A)\n",
    "print('Array in output, dopo averne eseguito l\\'ordinamento:\\n\\t', A)"
   ]
  }
 ],
 "metadata": {
  "kernelspec": {
   "display_name": "Python 3 (ipykernel)",
   "language": "python",
   "name": "python3"
  },
  "language_info": {
   "codemirror_mode": {
    "name": "ipython",
    "version": 3
   },
   "file_extension": ".py",
   "mimetype": "text/x-python",
   "name": "python",
   "nbconvert_exporter": "python",
   "pygments_lexer": "ipython3",
   "version": "3.9.7"
  }
 },
 "nbformat": 4,
 "nbformat_minor": 5
}
