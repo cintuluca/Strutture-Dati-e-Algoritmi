{
 "cells": [
  {
   "cell_type": "code",
   "execution_count": 1,
   "id": "db8053a2-37cf-4fe8-bbb5-8ad2931d8948",
   "metadata": {},
   "outputs": [],
   "source": [
    "import numpy as np\n",
    "import sys"
   ]
  },
  {
   "cell_type": "code",
   "execution_count": 2,
   "id": "f15a9c28-124e-4fbe-8245-9123e69661b4",
   "metadata": {},
   "outputs": [],
   "source": [
    "def Part(A):\n",
    "    n=len(A)\n",
    "    A11=np.zeros(shape=(int(n/2),int(n/2)))\n",
    "    A12=np.zeros(shape=(int(n/2),int(n/2)))\n",
    "    A21=np.zeros(shape=(int(n/2),int(n/2)))\n",
    "    A22=np.zeros(shape=(int(n/2),int(n/2)))\n",
    "    for i in range(int(n/2)):\n",
    "        for j in range(int(n/2)):\n",
    "            A11[i][j]=A[i][j]\n",
    "            A12[i][j]=A[i][j+int(n/2)]\n",
    "            A21[i][j]=A[i+int(n/2)][j]\n",
    "            A22[i][j]=A[i+int(n/2)][j+int(n/2)]\n",
    "    return A11,A12,A21,A22\n",
    "\n",
    "def Merge(C11,C12,C21,C22):\n",
    "    n=len(C11)\n",
    "    C=np.zeros(shape=(2*n,2*n))\n",
    "    for i in range(n):\n",
    "        for j in range(n):\n",
    "            C[i][j]=C11[i][j]\n",
    "            C[i][j+n]=C12[i][j]\n",
    "            C[i+n][j]=C21[i][j]\n",
    "            C[i+n][j+n]=C22[i][j]\n",
    "    return C\n",
    "    \n",
    "\n",
    "def Strassen(A,B):\n",
    "    if np.shape(A)[0]!=np.shape(A)[1] or np.shape(B)[0]!=np.shape(B)[1]:\n",
    "        print('One of the two matrix has a different number of rows and columns!')\n",
    "        sys.exit()\n",
    "    if len(A)!=len(B):\n",
    "        print('The two matrix have not the same dimensions!')\n",
    "        sys.exit()\n",
    "    if float(np.log2(len(A))).is_integer()==False:\n",
    "        print('The dimension of the two matrix is not power of 2!')\n",
    "        sys.exit()\n",
    "    n=len(A)\n",
    "    C=np.zeros(shape=(n,n))\n",
    "    if n==1:\n",
    "        C[0][0]=A[0][0]*B[0][0]\n",
    "    else:\n",
    "        A11,A12,A21,A22=Part(A)\n",
    "        B11,B12,B21,B22=Part(B)\n",
    "        M1=Strassen((A11+A22),(B11+B22))\n",
    "        M2=Strassen((A21+A22),B11)\n",
    "        M3=Strassen(A11,(B12-B22))\n",
    "        M4=Strassen(A22,(B21-B11))\n",
    "        M5=Strassen((A11+A12),B22)\n",
    "        M6=Strassen((A21-A11),(B11+B12))\n",
    "        M7=Strassen((A12-A22),(B21+B22))\n",
    "        C11=M1+M4-M5+M7\n",
    "        C12=M3+M5\n",
    "        C21=M2+M4\n",
    "        C22=M1-M2+M3+M6\n",
    "        C=Merge(C11,C12,C21,C22)\n",
    "    return C"
   ]
  },
  {
   "cell_type": "code",
   "execution_count": 3,
   "id": "dacae57d-3a06-4541-aa45-59f759cb5a66",
   "metadata": {},
   "outputs": [
    {
     "name": "stdout",
     "output_type": "stream",
     "text": [
      "Matrix to multiply:\n",
      "\n",
      "A=\n",
      "[[2 3 7 1]\n",
      " [1 5 3 8]\n",
      " [8 0 1 3]\n",
      " [4 6 1 8]] \n",
      "\n",
      "B=\n",
      "[[0 0 9 3]\n",
      " [6 2 7 8]\n",
      " [5 7 1 2]\n",
      " [4 1 8 2]]\n",
      "\n",
      "Result of the matrix multiplication of A and B:\n",
      "\n",
      "C=\n",
      "[[ 57.  56.  54.  46.]\n",
      " [ 77.  39. 111.  65.]\n",
      " [ 17.  10.  97.  32.]\n",
      " [ 73.  27. 143.  78.]]\n"
     ]
    }
   ],
   "source": [
    "A=np.array([[2,3,7,1],[1,5,3,8],[8,0,1,3],[4,6,1,8]])\n",
    "B=np.array([[0,0,9,3],[6,2,7,8],[5,7,1,2],[4,1,8,2]])\n",
    "print('Matrix to multiply:\\n')\n",
    "print('A=')\n",
    "print(A, '\\n')\n",
    "print('B=')\n",
    "print(B)\n",
    "print('\\nResult of the matrix multiplication of A and B:\\n')\n",
    "print('C=')\n",
    "print(Strassen(A,B))"
   ]
  }
 ],
 "metadata": {
  "kernelspec": {
   "display_name": "Python 3 (ipykernel)",
   "language": "python",
   "name": "python3"
  },
  "language_info": {
   "codemirror_mode": {
    "name": "ipython",
    "version": 3
   },
   "file_extension": ".py",
   "mimetype": "text/x-python",
   "name": "python",
   "nbconvert_exporter": "python",
   "pygments_lexer": "ipython3",
   "version": "3.9.16"
  }
 },
 "nbformat": 4,
 "nbformat_minor": 5
}
