{
 "cells": [
  {
   "cell_type": "code",
   "execution_count": 1,
   "id": "933085a3-c10c-4e9c-a25b-37d6a2a51d26",
   "metadata": {},
   "outputs": [],
   "source": [
    "import numpy as np\n",
    "import sys"
   ]
  },
  {
   "cell_type": "code",
   "execution_count": 2,
   "id": "8c5cf217-daa4-4714-851f-261c8785a41e",
   "metadata": {},
   "outputs": [],
   "source": [
    "def IncrMatrixMult(A,B):\n",
    "    if np.shape(A)[0]!=np.shape(A)[1] or np.shape(B)[0]!=np.shape(B)[1]:\n",
    "        print('Una delle due matrici ha un numero diverso di righe e colonne!')\n",
    "        sys.exit()\n",
    "    if len(A)!=len(B):\n",
    "        print('Le due matrici non hanno le medesime dimensioni!')\n",
    "        sys.exit()\n",
    "    n=len(A)\n",
    "    C=np.zeros(shape=(n,n))\n",
    "    for i in range(n):\n",
    "        for j in range(n):\n",
    "            for k in range(n):\n",
    "                C[i][j]=C[i][j]+A[i][k]*B[k][j]\n",
    "    return C"
   ]
  },
  {
   "cell_type": "code",
   "execution_count": 3,
   "id": "d4b11662-fffa-4c9e-af14-96069a50e4a8",
   "metadata": {},
   "outputs": [
    {
     "name": "stdout",
     "output_type": "stream",
     "text": [
      "Matrici da moltiplicare:\n",
      "\n",
      "A=\n",
      "[[2 3 7]\n",
      " [1 5 3]\n",
      " [8 0 1]] \n",
      "\n",
      "B=\n",
      "[[0 0 9]\n",
      " [6 2 7]\n",
      " [5 7 1]]\n",
      "\n",
      "Risultato della moltiplicazione matriciale di A e B:\n",
      "\n",
      "C=\n",
      "[[53. 55. 46.]\n",
      " [45. 31. 47.]\n",
      " [ 5.  7. 73.]]\n"
     ]
    }
   ],
   "source": [
    "A=np.array([[2,3,7],[1,5,3],[8,0,1]])\n",
    "B=np.array([[0,0,9],[6,2,7],[5,7,1]])\n",
    "print('Matrici da moltiplicare:\\n')\n",
    "print('A=')\n",
    "print(A, '\\n')\n",
    "print('B=')\n",
    "print(B)\n",
    "print('\\nRisultato della moltiplicazione matriciale di A e B:\\n')\n",
    "print('C=')\n",
    "print(IncrMatrixMult(A,B))"
   ]
  }
 ],
 "metadata": {
  "kernelspec": {
   "display_name": "Python 3 (ipykernel)",
   "language": "python",
   "name": "python3"
  },
  "language_info": {
   "codemirror_mode": {
    "name": "ipython",
    "version": 3
   },
   "file_extension": ".py",
   "mimetype": "text/x-python",
   "name": "python",
   "nbconvert_exporter": "python",
   "pygments_lexer": "ipython3",
   "version": "3.9.7"
  }
 },
 "nbformat": 4,
 "nbformat_minor": 5
}
