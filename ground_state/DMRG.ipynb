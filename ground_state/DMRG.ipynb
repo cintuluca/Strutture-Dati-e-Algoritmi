{
 "cells": [
  {
   "cell_type": "code",
   "execution_count": 2,
   "id": "e061d3d2-29ce-437d-9d20-ccbccd0b261b",
   "metadata": {},
   "outputs": [],
   "source": [
    "using ITensors\n",
    "using Plots"
   ]
  },
  {
   "cell_type": "code",
   "execution_count": 3,
   "id": "59bdc3cd-1bbe-4ef5-b466-59c59909a527",
   "metadata": {},
   "outputs": [],
   "source": [
    "# Create the spin-one sites\n",
    "N =100\n",
    "sites = siteinds(\"S=1\",N)\n",
    "\n",
    "# Define the Heisenberg Hamiltonian operator\n",
    "os = OpSum()\n",
    "for j=1:N-1\n",
    "    os += \"Sz\",j,\"Sz\",j+1\n",
    "    os += 0.5,\"S+\",j,\"S-\",j+1\n",
    "    os += 0.5,\"S-\",j,\"S+\",j+1\n",
    "    os -= \"Sz\",j \n",
    "end\n",
    "H = MPO(os,sites)\n",
    "nothing"
   ]
  },
  {
   "cell_type": "code",
   "execution_count": 4,
   "id": "fa36cf1a-12d6-4e5e-95b1-f4dafba1c89c",
   "metadata": {},
   "outputs": [
    {
     "name": "stdout",
     "output_type": "stream",
     "text": [
      "After sweep 1 energy=-142.27580426297945  maxlinkdim=9 maxerr=3.52E-16 time=23.118\n",
      "Step\t1\t->\tEnergy difference\t=\t142.27580426297945\n",
      "After sweep 1 energy=-144.238559011404  maxlinkdim=57 maxerr=9.99E-11 time=1.084\n",
      "Step\t2\t->\tEnergy difference\t=\t1.962754748424544\n",
      "After sweep 1 energy=-144.36495719952015  maxlinkdim=73 maxerr=9.97E-11 time=2.737\n",
      "Step\t3\t->\tEnergy difference\t=\t0.12639818811615555\n",
      "After sweep 1 energy=-144.43603282830856  maxlinkdim=100 maxerr=1.90E-10 time=3.291\n",
      "Step\t4\t->\tEnergy difference\t=\t0.07107562878840668\n",
      "After sweep 1 energy=-144.48673103030737  maxlinkdim=100 maxerr=6.07E-10 time=4.164\n",
      "Step\t5\t->\tEnergy difference\t=\t0.05069820199881292\n",
      "After sweep 1 energy=-144.5276080285263  maxlinkdim=100 maxerr=4.77E-10 time=4.541\n",
      "Step\t6\t->\tEnergy difference\t=\t0.04087699821891988\n",
      "After sweep 1 energy=-144.56328445275733  maxlinkdim=100 maxerr=1.70E-09 time=5.663\n",
      "Step\t7\t->\tEnergy difference\t=\t0.03567642423104189\n",
      "After sweep 1 energy=-144.59146563947715  maxlinkdim=100 maxerr=5.06E-09 time=8.238\n",
      "Step\t8\t->\tEnergy difference\t=\t0.02818118671982006\n",
      "After sweep 1 energy=-144.6016540737108  maxlinkdim=100 maxerr=5.52E-09 time=9.181\n",
      "Step\t9\t->\tEnergy difference\t=\t0.010188434233640464\n",
      "After sweep 1 energy=-144.60408842990313  maxlinkdim=100 maxerr=1.10E-08 time=9.422\n",
      "Step\t10\t->\tEnergy difference\t=\t0.0024343561923387824\n"
     ]
    }
   ],
   "source": [
    "# Create a random matrix product state in order to start the algorithm\n",
    "psi0 = randomMPS(sites)\n",
    "\n",
    "# Define some parameters to control the sweeping\n",
    "maxdim = 100\n",
    "cutoff = 1E-10\n",
    "\n",
    "# DMRG algorithm\n",
    "de, energy0, E, steps, step = 1, 0, zeros(0), zeros(0), 0\n",
    "\n",
    "while de > 1e-2  # convergence criteria\n",
    "    step += 1\n",
    "    append!( steps, step)\n",
    "    energy, psi = dmrg(H,psi0; nsweeps=1, maxdim, cutoff)\n",
    "    psi0 = psi\n",
    "    de = abs(energy - energy0)\n",
    "    energy0 = energy\n",
    "    println(\"Step\\t$step\\t->\\tEnergy difference\\t=\\t$de\")\n",
    "    append!( E, energy )\n",
    "end"
   ]
  },
  {
   "cell_type": "code",
   "execution_count": 62,
   "id": "67cc28b6-da0b-49e8-851c-d4aad0be7233",
   "metadata": {},
   "outputs": [],
   "source": [
    "# Plot the resulting energy after each sweep\n",
    "plot(steps, E,\n",
    "    tickfontsize=40,\n",
    "    legendfontsize=40,\n",
    "    labelfontsize=40,\n",
    "    linewidth=5,\n",
    "    lc=:red\n",
    "    )\n",
    "\n",
    "plot!(steps, E,\n",
    "    seriestype=:scatter,\n",
    "    mc=:blue,\n",
    "    ms=20, ma=5\n",
    "    )\n",
    "\n",
    "plot!(size=(2000,1500), legend=false, margin=10Plots.mm)\n",
    "xlabel!(\"Number of sweeps\")\n",
    "ylabel!(\"Ground State Energy [eV]\")\n",
    "savefig(\"ground_state_energy.png\")"
   ]
  }
 ],
 "metadata": {
  "kernelspec": {
   "display_name": "Julia 1.9.0",
   "language": "julia",
   "name": "julia-1.9"
  },
  "language_info": {
   "file_extension": ".jl",
   "mimetype": "application/julia",
   "name": "julia",
   "version": "1.9.0"
  }
 },
 "nbformat": 4,
 "nbformat_minor": 5
}
