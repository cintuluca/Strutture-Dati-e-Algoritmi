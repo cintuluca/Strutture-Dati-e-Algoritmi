{
 "cells": [
  {
   "cell_type": "code",
   "execution_count": 1,
   "id": "1236b72a-3c35-48d1-8396-03580f864599",
   "metadata": {},
   "outputs": [],
   "source": [
    "import numpy as np\n",
    "import random"
   ]
  },
  {
   "cell_type": "code",
   "execution_count": 2,
   "id": "8d94fc19-fde4-413f-87a1-59f91adeb36b",
   "metadata": {},
   "outputs": [],
   "source": [
    "def tensor_to_matrix(T):\n",
    "    shape = np.shape(T)\n",
    "    return np.reshape(T, [shape[0], np.prod(shape[1:])])\n",
    "\n",
    "def contraction(T, S):\n",
    "    shape = np.shape(T)\n",
    "    if len(S) > 1:\n",
    "        return np.reshape(T, [shape[0]*S[0], np.prod(S[1:])])\n",
    "    \n",
    "def tensor_3(components):\n",
    "    l = len(components)\n",
    "    shape = np.shape(components[0])\n",
    "    for i in range(1, len(components)-1):\n",
    "        s1, s2 = np.shape(components[i])\n",
    "        components[i] = np.reshape(components[i], [shape[-1], s1//shape[-1], s2])\n",
    "        shape = np.shape(components[i])\n",
    "\n",
    "def MPS(T):\n",
    "    shape = np.shape(T)\n",
    "    components = []\n",
    "    M = tensor_to_matrix(T)\n",
    "    for i in range(len(shape)-1):\n",
    "        shape = shape[1:]\n",
    "        A, D, B = np.linalg.svd(M, full_matrices=True)\n",
    "        components.append(A)\n",
    "        S = np.zeros((np.shape(A)[1], np.shape(B)[0]))\n",
    "        for i in range(len(D)):\n",
    "            S[i][i]=S[i][i]+D[i]\n",
    "        B = np.matmul(S, B)\n",
    "        M = contraction(B, shape)\n",
    "    components.append(B)\n",
    "    tensor_3(components)\n",
    "    return components\n",
    "\n",
    "def Telement(components, indexes):\n",
    "    C = np.matmul(components[0][indexes[0], :], components[1][:, indexes[1], :])\n",
    "    for i in range(2, len(components)-1):\n",
    "        C = np.matmul(C, components[i][:, indexes[i], :])\n",
    "    return np.matmul(C, components[-1][:, indexes[-1]])"
   ]
  },
  {
   "cell_type": "code",
   "execution_count": 3,
   "id": "5e348a55-66f4-49ff-b8f0-f380e94de832",
   "metadata": {},
   "outputs": [
    {
     "name": "stdout",
     "output_type": "stream",
     "text": [
      "(12, 12)\n",
      "(12, 6, 72)\n",
      "(72, 5, 360)\n",
      "(360, 7)\n"
     ]
    }
   ],
   "source": [
    "a = np.random.random_sample(size = [12, 6, 5, 7])\n",
    "components = MPS(a)\n",
    "\n",
    "for c in components:\n",
    "    print(np.shape(c))"
   ]
  }
 ],
 "metadata": {
  "kernelspec": {
   "display_name": "Python 3 (ipykernel)",
   "language": "python",
   "name": "python3"
  },
  "language_info": {
   "codemirror_mode": {
    "name": "ipython",
    "version": 3
   },
   "file_extension": ".py",
   "mimetype": "text/x-python",
   "name": "python",
   "nbconvert_exporter": "python",
   "pygments_lexer": "ipython3",
   "version": "3.9.16"
  }
 },
 "nbformat": 4,
 "nbformat_minor": 5
}
